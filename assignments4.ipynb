{
  "cells": [
    {
      "cell_type": "markdown",
      "metadata": {
        "id": "view-in-github",
        "colab_type": "text"
      },
      "source": [
        "<a href=\"https://colab.research.google.com/github/Babaralihyd/Assignment-04_python-/blob/main/assignments4.ipynb\" target=\"_parent\"><img src=\"https://colab.research.google.com/assets/colab-badge.svg\" alt=\"Open In Colab\"/></a>"
      ]
    },
    {
      "cell_type": "code",
      "execution_count": null,
      "metadata": {
        "id": "0TjrdEbOpvwX",
        "colab": {
          "base_uri": "https://localhost:8080/"
        },
        "outputId": "529eab39-3546-4d50-8999-5ea2cfe90cb3"
      },
      "outputs": [
        {
          "output_type": "stream",
          "name": "stdout",
          "text": [
            "['apple', 'mango', 'organge', 'grape']\n"
          ]
        }
      ],
      "source": [
        "# 1.Tasks:\n",
        "# 1. Create and Modify Lists\n",
        "# o Create a list called fruits with the items: \"apple\", \"banana\", \"orange\"\n",
        "# o Add \"grape\" to the end of the list using an appropriate method\n",
        "# o Insert \"mango\" at position 2 in the list\n",
        "# o Remove \"banana\" from the list\n",
        "# o Print the final list\n",
        "\n",
        "fruits = [\"apple\", \"banana\", \"organge\"]\n",
        "fruits.append(\"grape\")\n",
        "fruits.insert(2, \"mango\")\n",
        "fruits.remove(\"banana\")\n",
        "print(fruits)\n",
        "\n",
        "\n"
      ]
    },
    {
      "cell_type": "code",
      "execution_count": null,
      "metadata": {
        "id": "ayIpwC48rzgO",
        "colab": {
          "base_uri": "https://localhost:8080/"
        },
        "outputId": "1abe358c-cf2e-4b22-98ee-75b6073d748e"
      },
      "outputs": [
        {
          "output_type": "stream",
          "name": "stdout",
          "text": [
            "[10, 20, 30, 40, 50, 60, 70, 80]\n",
            "[80, 70, 60, 50, 40, 30, 20, 10]\n"
          ]
        }
      ],
      "source": [
        "# 2. List Operations\n",
        "# o Create a list numbers with values: 10, 20, 30, 40, 50\n",
        "# o Create a second list more_numbers with values: 60, 70, 80\n",
        "# o Combine both lists into a new list called all_numbers\n",
        "# o Make a copy of all_numbers called numbers_copy\n",
        "# o Reverse the order of numbers_copy\n",
        "# o Print both all_numbers and numbers_copy\n",
        "\n",
        "list = [ 10, 20, 30, 40, 50]\n",
        "list2 = [60, 70, 80]\n",
        "all_numbers = list + list2\n",
        "numbers_copy =all_numbers.copy()\n",
        "numbers_copy.reverse()\n",
        "print(all_numbers)\n",
        "print(numbers_copy)\n",
        "\n",
        "\n",
        "\n",
        "\n"
      ]
    },
    {
      "cell_type": "code",
      "execution_count": null,
      "metadata": {
        "colab": {
          "base_uri": "https://localhost:8080/"
        },
        "id": "D3m83QAVtg-I",
        "outputId": "eaeb1d23-5233-4dbe-f48d-2a92022d89c0"
      },
      "outputs": [
        {
          "output_type": "stream",
          "name": "stdout",
          "text": [
            "Original scores: [85, 92, 78, 65, 92, 85, 74]\n",
            "Sorted (ascending): [65, 74, 78, 85, 85, 92, 92]\n",
            "Sorted (descending): [92, 92, 85, 85, 78, 74, 65]\n",
            "Number of times 92 appears: 2\n",
            "Highest score: 92\n",
            "Lowest score: 65\n"
          ]
        }
      ],
      "source": [
        "# 3. Sorting and Counting\n",
        "# o Create a list scores with these values: 85, 92, 78, 65, 92, 85, 74\n",
        "# o Sort the list in ascending order\n",
        "# o Sort the list in descending order\n",
        "# o Count how many times 92 appears in the list\n",
        "# o Find and print the highest and lowest scores\n",
        "# o Print the sorted list\n",
        "\n",
        "scores = [85, 92, 78, 65, 92, 85, 74]\n",
        "ascending_order = sorted(scores)\n",
        "descending_order = sorted(scores, reverse=True)\n",
        "count = scores.count(92)\n",
        "highest_score = max(scores)\n",
        "lowest_score = min(scores)\n",
        "print(\"Original scores:\", scores)\n",
        "print(\"Sorted (ascending):\", ascending_order)\n",
        "print(\"Sorted (descending):\", descending_order)\n",
        "print(\"Number of times 92 appears:\", count)\n",
        "print(\"Highest score:\", highest_score)\n",
        "print(\"Lowest score:\", lowest_score)"
      ]
    },
    {
      "cell_type": "code",
      "execution_count": null,
      "metadata": {
        "colab": {
          "base_uri": "https://localhost:8080/"
        },
        "id": "pp5WFr-zzEfr",
        "outputId": "575a4c80-2a51-4582-852a-1b4fd38d1ab9"
      },
      "outputs": [
        {
          "output_type": "stream",
          "name": "stdout",
          "text": [
            "['a', 'b', 'c']\n",
            "['d', 'e']\n",
            "2\n",
            "['a', 'b', 'c', 'z', 'e']\n"
          ]
        }
      ],
      "source": [
        "# 4. List Manipulation\n",
        "# o Create a list letters with values: \"a\", \"b\", \"c\", \"d\", \"e\"\n",
        "# o Use slicing to create a new list with only the first three letters\n",
        "# o Use slicing to create another list with only the last two letters\n",
        "# o Find and print the index of \"c\" in the list\n",
        "# o Replace \"d\" with \"z\" in the original list\n",
        "# o Print the modified list\n",
        "\n",
        "\n",
        "\n",
        "letters = [\"a\", \"b\", \"c\", \"d\", \"e\" ]\n",
        "new_list = letters[:3]\n",
        "new_list2 = letters[-2:]\n",
        "index = letters.index(\"c\")\n",
        "letters[3]= \"z\"\n",
        "print(new_list)\n",
        "print(new_list2)\n",
        "print(index)\n",
        "print(letters)\n"
      ]
    },
    {
      "cell_type": "code",
      "execution_count": null,
      "metadata": {
        "colab": {
          "base_uri": "https://localhost:8080/"
        },
        "id": "R4GVdtj32Zdh",
        "outputId": "54b65bcb-4be3-4de5-a7f7-d94f11f55475"
      },
      "outputs": [
        {
          "output_type": "stream",
          "name": "stdout",
          "text": [
            "John\n",
            "['Math', 'Science', 'History']\n",
            " Dictionary: {'name': 'John', 'age': 20, 'grade': 'A', 'courses': ['Math', 'Science', 'History'], 'email': 'john@example.com'}\n"
          ]
        }
      ],
      "source": [
        "#Dictionary Methods Practice\n",
        "#2.Tasks:\n",
        "# o Create a dictionary called student with these key-value pairs:\n",
        "#  \"name\": \"John\"\n",
        "#  \"age\": 20\n",
        "#  \"grade\": \"A\"\n",
        "#  \"courses\": [\"Math\", \"Science\", \"History\"]\n",
        "# o Print the student's name\n",
        "# o Print the list of courses\n",
        "# o Add a new key-value pair: \"email\": \"john@example.com\"\n",
        "# o Print the entire dictionary\n",
        "\n",
        "student = {\n",
        "    \"name\": \"John\",\n",
        "    \"age\": 20,\n",
        "    \"grade\": \"A\",\n",
        "    \"courses\": [\"Math\", \"Science\", \"History\"]\n",
        "}\n",
        "\n",
        "\n",
        "print( student[\"name\"])\n",
        "\n",
        "print( student[\"courses\"])\n",
        "\n",
        "student[\"email\"] = \"john@example.com\"\n",
        "\n",
        "print(\" Dictionary:\", student)\n"
      ]
    },
    {
      "cell_type": "code",
      "execution_count": null,
      "metadata": {
        "colab": {
          "base_uri": "https://localhost:8080/"
        },
        "id": "YMifdx_GHioP",
        "outputId": "50015ebf-51a5-4955-e2cd-42b49d240f90"
      },
      "outputs": [
        {
          "output_type": "stream",
          "name": "stdout",
          "text": [
            "{'name': 'imran', 'age': 21, 'grade': 'A+', 'courses': ['biology', 'physics', 'chemistry', 'computer science']}\n"
          ]
        }
      ],
      "source": [
        "# 2. Modify Dictionary Values\n",
        "# o Change the student's age to 21\n",
        "# o Add a new course \"Computer Science\" to the courses list\n",
        "# o Update the grade to \"A+\"\n",
        "# o Print the modified dictionary\n",
        "\n",
        "\n",
        "student = {\n",
        "    \"name\": \"imran\",\n",
        "    \"age\": 18,\n",
        "    \"grade\": \"A\",\n",
        "    \"courses\": [\"biology\", \"physics\", \"chemistry\"]\n",
        "}\n",
        "\n",
        "student[\"age\"] = 21\n",
        "student[\"courses\"].append(\"computer science\")\n",
        "student[\"grade\"] = \"A+\"\n",
        "print(student)"
      ]
    },
    {
      "cell_type": "code",
      "execution_count": null,
      "metadata": {
        "colab": {
          "base_uri": "https://localhost:8080/"
        },
        "id": "OvdaEYzVJQke",
        "outputId": "59b068d5-f1c1-432c-b79b-a7a55decd1c2"
      },
      "outputs": [
        {
          "output_type": "stream",
          "name": "stdout",
          "text": [
            "{'name': 'Naveed', 'age': 25, 'grade': 'A+', 'group': 'Pre_Medical', 'street': '123 college Ave', 'city': 'new york'}\n",
            "phone Exists False\n"
          ]
        }
      ],
      "source": [
        "# 3. Dictionary Operations\n",
        "# o Create a second dictionary student_address with these key-value pairs:\n",
        "#  \"street\": \"123 College Ave\"\n",
        "#  \"city\": \"New York\"\n",
        "#  \"zip\": \"10001\"\n",
        "# o Combine both dictionaries into a new dictionary called student_info\n",
        "# o Remove the \"zip\" key from student_info\n",
        "# o Check if \"phone\" exists in the dictionary\n",
        "# o Print the final dictionary\n",
        "student_details = {\n",
        "    \"name\": \"Naveed\",\n",
        "    \"age\": 25,\n",
        "    \"grade\": \"A+\",\n",
        "    \"group\": \"Pre_Medical\"\n",
        "}\n",
        "\n",
        "\n",
        "student_address = {\n",
        "    \"street\": \"123 college Ave\",\n",
        "    \"city\": \"new york\",\n",
        "    \"zip\": \"10001\",\n",
        "}\n",
        "\n",
        "\n",
        "student_info = {**student_details, **student_address}\n",
        "\n",
        "student_info.pop(\"zip\",None )\n",
        "phone_update = \"phone\"in student_info\n",
        "print(student_info)\n",
        "print(\"phone Exists\" , phone_update)\n",
        "\n",
        "\n"
      ]
    },
    {
      "cell_type": "code",
      "execution_count": 15,
      "metadata": {
        "colab": {
          "base_uri": "https://localhost:8080/"
        },
        "id": "NBOOWYY6Mt-F",
        "outputId": "85bc4f2c-e8b5-4f7f-e96b-3e32b3a6ed97"
      },
      "outputs": [
        {
          "output_type": "stream",
          "name": "stdout",
          "text": [
            "['hello', 'world', 'python']\n",
            "[5, 10, 15]\n",
            "[('hello', 5), ('world', 10), ('python', 15)]\n",
            "{'hello': 5, 'world': 10, 'python': 15}\n",
            "None\n",
            "{}\n"
          ]
        }
      ],
      "source": [
        "# 4. Dictionary Methods\n",
        "# o Create a dictionary word_count with these key-value pairs:\n",
        "#  \"hello\": 5\n",
        "#  \"world\": 10\n",
        "#  \"python\": 15\n",
        "# o Get all keys and print them as a list\n",
        "# o Get all values and print them as a list\n",
        "# o Get all key-value pairs and print them\n",
        "# o Make a copy of the dictionary\n",
        "# o Clear the original dictionary\n",
        "# o Print both dictionaries to verify one is empty and one is a copy\n",
        "\n",
        "\n",
        "word_count = {\n",
        "    \"hello\":5 ,\n",
        "    \"world\":10,\n",
        "    \"python\": 15\n",
        "\n",
        "}\n",
        "\n",
        "\n",
        "keys = list(word_count.keys())\n",
        "print(keys)\n",
        "values = list(word_count.values())\n",
        "print(values)\n",
        "iterms = list(word_count.items())\n",
        "print(iterms)\n",
        "copy = word_count.copy()\n",
        "print(copy)\n",
        "clear = word_count.clear()\n",
        "print(clear)\n",
        "print(word_count)\n",
        "\n"
      ]
    },
    {
      "cell_type": "code",
      "execution_count": null,
      "metadata": {
        "id": "4xTMiYqtQM5d"
      },
      "outputs": [],
      "source": [
        "# Shopping Discount Calculator\n",
        "#Tasks 3\n",
        "# 1. Set up the initial variables:\n",
        "# o purchase_amount: The total cost of items in the shopping cart\n",
        "# o is_loyalty_member: Boolean (True/False) indicating if the customer is a\n",
        "# loyalty member\n",
        "# o day_of_week: A string with the current day (e.g., \"Monday\", \"Tuesday\", etc.)\n",
        "# o is_holiday_season: Boolean indicating if it's currently a holiday shopping\n",
        "# season\n",
        "\n",
        "\n",
        "purchase_amount = 153\n",
        "is_loyalty_member = True\n",
        "day_of_week = \"Saturday\"\n",
        "is_holiday_season = False\n",
        "\n",
        "\n",
        "\n",
        "\n",
        "\n"
      ]
    },
    {
      "cell_type": "code",
      "execution_count": null,
      "metadata": {
        "id": "dHgdAjlbl91_"
      },
      "outputs": [],
      "source": [
        "# o If purchase amount is greater than $100, apply a 10% discount\n",
        "# o If purchase amount is greater than $50 (but less than or equal to $100),\n",
        "# apply a 5% discount\n",
        "# o If the customer is a loyalty member, apply an additional 5% discount\n",
        "# o If it's a weekend (Saturday or Sunday), apply an additional 2% discount\n",
        "# o If it's a holiday season, apply an additional 8% discount\n",
        "discount = 0\n",
        "\n",
        "\n",
        "if purchase_amount > 100:\n",
        "    discount += 10\n",
        "elif purchase_amount > 50 and purchase_amount <= 100:\n",
        "    discount += 5\n",
        "\n",
        "\n",
        "if is_loyalty_member:\n",
        "    discount += 5\n",
        "\n",
        "\n",
        "if day_of_week in [\"Saturday\", \"Sunday\"]:\n",
        "    discount += 2\n",
        "\n",
        "if is_holiday_season:\n",
        "    discount += 8\n",
        "\n",
        "\n",
        "final_price = purchase_amount * (1 - discount / 100)\n",
        "\n",
        "\n",
        "\n",
        "\n",
        "\n",
        "\n",
        "\n",
        "\n"
      ]
    },
    {
      "cell_type": "code",
      "execution_count": null,
      "metadata": {
        "colab": {
          "base_uri": "https://localhost:8080/"
        },
        "id": "nzTIy_-ksUd4",
        "outputId": "83801150-1928-4724-9f8e-1e8a7684d5b2"
      },
      "outputs": [
        {
          "output_type": "stream",
          "name": "stdout",
          "text": [
            "Original purchase amount: $153.00\n",
            "Total discount applied: 17%\n",
            "Final price after discount: $126.99\n"
          ]
        }
      ],
      "source": [
        "# 3. Calculate and display:\n",
        "# o The original purchase amount\n",
        "# o Each discount that was applied and its amount\n",
        "# o The final price after all discounts\n",
        "print(f\"Original purchase amount: ${purchase_amount:.2f}\")\n",
        "print(f\"Total discount applied: {discount}%\")\n",
        "print(f\"Final price after discount: ${final_price:.2f}\")"
      ]
    },
    {
      "cell_type": "code",
      "execution_count": null,
      "metadata": {
        "colab": {
          "base_uri": "https://localhost:8080/"
        },
        "id": "d7fBcA4Tv5wA",
        "outputId": "f2ba04e7-bbca-4d91-e29c-239b543df910"
      },
      "outputs": [
        {
          "output_type": "stream",
          "name": "stdout",
          "text": [
            "1\n",
            "2\n",
            "3\n",
            "4\n",
            "5\n",
            "6\n",
            "7\n",
            "8\n",
            "9\n",
            "10\n",
            ".........multiplication table 5..............\n",
            "5 X 1 = 5 \n",
            "5 X 2 = 10 \n",
            "5 X 3 = 15 \n",
            "5 X 4 = 20 \n",
            "5 X 5 = 25 \n",
            "5 X 6 = 30 \n",
            "5 X 7 = 35 \n",
            "5 X 8 = 40 \n",
            "5 X 9 = 45 \n",
            "5 X 10 = 50 \n"
          ]
        }
      ],
      "source": [
        "# Assignment Overview:\n",
        "# In this assignment, you will create number patterns using for loops in Python.\n",
        "# Instructions:\n",
        "# Write a Python program that generates the following patterns using for loops:\n",
        "\n",
        "# 1. Pattern 1: Counting Numbers\n",
        "# o Print numbers from 1 to 10 on a single line.\n",
        "#  2.  Pattern 2: Multiplication Table\n",
        "#  Create a multiplication table for the number 5 (from 1 to 10).\n",
        "\n",
        "\n",
        "for counting_number in range(1,11):\n",
        "    print(counting_number, end= \"\"),\n",
        "    print()\n",
        "\n",
        "\n",
        "print(\".........multiplication table 5..............\")\n",
        "\n",
        "for multip in range(1,11):\n",
        "  print(f\"5 X {multip} = {5 * multip} \")\n"
      ]
    },
    {
      "cell_type": "code",
      "execution_count": null,
      "metadata": {
        "colab": {
          "base_uri": "https://localhost:8080/"
        },
        "id": "qVpZ1GOksUb2",
        "outputId": "7285ccc0-f8ce-4085-b95d-02af0252e5f1"
      },
      "outputs": [
        {
          "output_type": "stream",
          "name": "stdout",
          "text": [
            "Guess a number between 1 and 50: 27\n",
            "Congratulations! You guessed the number in 1 tries.\n"
          ]
        }
      ],
      "source": [
        "# While Loop Assignment - Interactive Game\n",
        "# Assignment Overview:\n",
        "# Create a simple number guessing game using a while loop.\n",
        "# Instructions:\n",
        "# Write a Python program that:\n",
        "# 1. Sets a \"secret number\" (you can choose any number between 1 and 50)\n",
        "# 2. Asks the player to guess the number\n",
        "# 3. Tells the player if their guess is too high or too low\n",
        "# 4. Keeps asking until the player guesses correctly\n",
        "# 5. Keeps track of how many guesses it took\n",
        "\n",
        "secret_num = 27\n",
        "guess = None\n",
        "guess_count = 0\n",
        "\n",
        "while guess != secret_num:\n",
        "    try:\n",
        "        guess = int(input(\"Guess a number between 1 and 50: \"))\n",
        "        guess_count += 1\n",
        "\n",
        "        if guess < secret_num:\n",
        "            print(\"Too low. Try again.\")\n",
        "        elif guess > secret_num:\n",
        "            print(\"Too high. Try again.\")\n",
        "        else:\n",
        "            print(f\"Congratulations! You guessed the number in {guess_count} tries.\")\n",
        "    except ValueError:\n",
        "        print(\"Invalid input. Please enter a valid number.\")\n",
        "\n",
        "\n",
        "\n",
        "\n",
        "\n",
        "\n"
      ]
    },
    {
      "cell_type": "code",
      "execution_count": 20,
      "metadata": {
        "id": "tihoffyqnnyA"
      },
      "outputs": [],
      "source": [
        "# Student Grade Management System\n",
        "#Requirements:\n",
        "# Create a Python program that does the following:\n",
        "\n",
        "\n",
        "# 1. Create a list to store information about students\n",
        "\n",
        "# 2. Each student should be represented as a dictionary with the following keys:\n",
        "# o name: The student's full name\n",
        "# o id: A unique student ID number\n",
        "# o grades: Another dictionary containing course names as keys and grades as values\n",
        "\n",
        "\n",
        "\n",
        "\n",
        "students = [\n",
        "    {\n",
        "        \"name\": \"Imran\",\n",
        "        \"id\": \"1002\",\n",
        "        \"grades\": {\n",
        "            \"Physics\": 78,\n",
        "            \"Chemistry\": 87,\n",
        "            \"Biology\": 74\n",
        "        }\n",
        "    },\n",
        "    {\n",
        "        \"name\": \"Aamir\",\n",
        "        \"id\": \"1003\",\n",
        "        \"grades\": {\n",
        "            \"Physics\": 54,\n",
        "            \"Chemistry\": 94,\n",
        "            \"Biology\": 95\n",
        "        }\n",
        "    },\n",
        "    {\n",
        "        \"name\": \"Bilal\",\n",
        "        \"id\": \"1005\",\n",
        "        \"grades\": {\n",
        "            \"Physics\": 68,\n",
        "            \"Chemistry\": 47,\n",
        "            \"Biology\": 56\n",
        "        }\n",
        "    }\n",
        "]\n",
        "\n"
      ]
    },
    {
      "cell_type": "code",
      "execution_count": 21,
      "metadata": {
        "colab": {
          "base_uri": "https://localhost:8080/"
        },
        "id": "_Y35DV9waRtz",
        "outputId": "5766f129-5279-4666-88ae-869106a7d559"
      },
      "outputs": [
        {
          "output_type": "stream",
          "name": "stdout",
          "text": [
            "Student's Name: Imran Student's ID: 1002 Student's Grades: {'Physics': 78, 'Chemistry': 87, 'Biology': 74}\n",
            "Student's Name: Aamir Student's ID: 1003 Student's Grades: {'Physics': 54, 'Chemistry': 94, 'Biology': 95}\n",
            "Student's Name: Bilal Student's ID: 1005 Student's Grades: {'Physics': 68, 'Chemistry': 47, 'Biology': 56}\n"
          ]
        }
      ],
      "source": [
        "\n",
        "# Display all students with their grades\n",
        "\n",
        "for student in students:\n",
        "    print(f\"Student's Name: {student['name']} Student's ID: {student['id']} Student's Grades: {student['grades']}\")\n",
        "\n",
        "\n",
        "\n"
      ]
    },
    {
      "cell_type": "code",
      "execution_count": 22,
      "metadata": {
        "colab": {
          "base_uri": "https://localhost:8080/"
        },
        "id": "sv5JQ2f3aaY7",
        "outputId": "8013c3b8-c6f9-4f85-8ca8-0d412ab401c3"
      },
      "outputs": [
        {
          "output_type": "stream",
          "name": "stdout",
          "text": [
            "Imran - Average Grade: 79.67\n",
            "Aamir - Average Grade: 81.0\n",
            "Bilal - Average Grade: 57.0\n"
          ]
        }
      ],
      "source": [
        "#  Calculate and display the average grade for each student\n",
        "for student in students:\n",
        "    grades = student[\"grades\"].values()\n",
        "    average_grade = sum(grades) / len(grades)\n",
        "    print(f\"{student['name']} - Average Grade: {round(average_grade, 2)}\")\n",
        "\n",
        "\n"
      ]
    },
    {
      "cell_type": "code",
      "execution_count": 23,
      "metadata": {
        "colab": {
          "base_uri": "https://localhost:8080/"
        },
        "id": "POtuw4IgahCq",
        "outputId": "57addfd7-1734-4ff6-f359-565110f6e1fe"
      },
      "outputs": [
        {
          "output_type": "stream",
          "name": "stdout",
          "text": [
            "Top student: Aamir with Average Grade: 81.0\n"
          ]
        }
      ],
      "source": [
        "# Find and display the student with the highest average grade\n",
        "top_student = None\n",
        "highest_avg = 0\n",
        "\n",
        "for student in students:\n",
        "    grades = student[\"grades\"].values()\n",
        "    avg = sum(grades) / len(grades)\n",
        "    if avg > highest_avg:\n",
        "        highest_avg = avg\n",
        "        top_student = student\n",
        "\n",
        "# Print the result outside the loop\n",
        "if top_student:\n",
        "    print(f\"Top student: {top_student['name']} with Average Grade: {round(highest_avg, 2)}\")\n"
      ]
    },
    {
      "cell_type": "code",
      "execution_count": 24,
      "metadata": {
        "colab": {
          "base_uri": "https://localhost:8080/"
        },
        "id": "9LEW1JjBamUs",
        "outputId": "5bd9604b-a8cc-4812-d515-b14836e22e73"
      },
      "outputs": [
        {
          "output_type": "stream",
          "name": "stdout",
          "text": [
            "Aamir - Average : 81.0\n"
          ]
        }
      ],
      "source": [
        "# List all students with an average grade above 80\n",
        "\n",
        "for student in students:\n",
        "    grades = student[\"grades\"].values()\n",
        "    avg = sum(grades)/ len(grades)\n",
        "    if avg > 80:\n",
        "         print(f\"{student['name']} - Average : {round(avg,2 )}\")\n",
        "\n"
      ]
    },
    {
      "cell_type": "code",
      "execution_count": 25,
      "metadata": {
        "colab": {
          "base_uri": "https://localhost:8080/"
        },
        "id": "58rGe9mw-3Vp",
        "outputId": "716ca083-9f75-4c0d-cce0-9dbf1ec04c2f"
      },
      "outputs": [
        {
          "output_type": "stream",
          "name": "stdout",
          "text": [
            "Average grade for Biology: 75.0\n"
          ]
        }
      ],
      "source": [
        "# Calculate and display the average grade for a specific course\n",
        "\n",
        "\n",
        "course_name = \"Biology\"\n",
        "total = 0\n",
        "count = 0\n",
        "\n",
        "for student in students:\n",
        "    if course_name in student[\"grades\"]:\n",
        "        total += student[\"grades\"][course_name]\n",
        "        count += 1\n",
        "\n",
        "if count > 0:\n",
        "    course_average = total / count\n",
        "    print(f\"Average grade for {course_name}: {round(course_average, 2)}\")\n",
        "else:\n",
        "    print(f\"No data found for course: {course_name}\")\n",
        "\n",
        "\n",
        "\n",
        "\n"
      ]
    },
    {
      "cell_type": "code",
      "source": [
        "# o Add a new student to the system\n",
        "\n",
        "\n",
        "\n",
        "# New student to be added\n",
        "new_student = {\n",
        "    \"name\": \"Waqar\",\n",
        "    \"id\": 1006,\n",
        "    \"grades\": {\n",
        "        \"Physics\": 98,\n",
        "        \"Chemistry\": 97,\n",
        "        \"Biology\": 96\n",
        "    }\n",
        "}\n",
        "\n",
        "# Add the new student to the list\n",
        "students.append(new_student)\n",
        "\n",
        "# Print all students\n",
        "for s in students:\n",
        "    print(f\"Student Name: {s['name']},  Student ID: {s['id']},  Student Grades: {s['grades']}\")\n"
      ],
      "metadata": {
        "id": "fz_Z7JeMiour",
        "colab": {
          "base_uri": "https://localhost:8080/"
        },
        "outputId": "ed86d087-c9cf-4f44-f6b3-dbff7df62213"
      },
      "execution_count": 37,
      "outputs": [
        {
          "output_type": "stream",
          "name": "stdout",
          "text": [
            "Student Name: Ali,  Student ID: 1001,  Student Grades: {'Physics': 85, 'Chemistry': 90, 'Biology': 88}\n",
            "Student Name: Waqar,  Student ID: 1006,  Student Grades: {'Physics': 98, 'Chemistry': 97, 'Biology': 96}\n",
            "Student Name: Waqar,  Student ID: 1006,  Student Grades: {'Physics': 98, 'Chemistry': 97, 'Biology': 96}\n"
          ]
        }
      ]
    }
  ],
  "metadata": {
    "colab": {
      "provenance": [],
      "authorship_tag": "ABX9TyNUGXlfd/auoDfTT4a6hbep",
      "include_colab_link": true
    },
    "kernelspec": {
      "display_name": "Python 3",
      "name": "python3"
    },
    "language_info": {
      "name": "python"
    }
  },
  "nbformat": 4,
  "nbformat_minor": 0
}